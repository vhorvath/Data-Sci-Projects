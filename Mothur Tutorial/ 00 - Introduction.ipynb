{
 "cells": [
  {
   "cell_type": "markdown",
   "metadata": {},
   "source": [
    "# <center> **Mothur** - Suite for 16S rRNA sequence analysis</center>\n",
    "## Introduction \n",
    "One of the many possible applications of this suite is to analyize 16S rRNA to figure out the representative phylae in a sample that contains a mixture of bacterial species. This workflow can be used to produce an analysis such as the one used in the Human Microbiome project that analyzed bacterial samples from different samples collected from  the human body. [1]\n",
    "\n",
    "The basis of this analysis is that using specially desinged primers the non-conserved parts of the 16S rRNA [2], can be PCR-amplified, sequenced.\n",
    "![Variable regions of the 16S ribosomal RNA](http://www.nature.com/nrmicro/journal/v12/n9/images/nrmicro3330-f1.jpg)\n",
    "For example, the V4 region is relative short (*253bp*) that can be accurately sequenced with Illumina MiSeq (good up to 300bp) as a single read even with the added indexing and barcode sequences. [3] This process generates pair eneded reads that is - hopefully - representative of the bacterial 16S rRNA in the sample. We may gain qualitative and a quantitative information about the bacterial phylae present in the sample(s).\n",
    "\n",
    "**Mothur** is a \"full stack\" suite that can be used starting from raw read data to clustering the reads into operational taxonomical units (OTUs). An OTU is defined at a taxonomical level and may hold a multitude of lower level units. For example the two species of *Staphylococcus aureus* and *S. epidermidis* can are two OTUs at the Species level, but a single OTU at the Genus level. *S. aureus* as an OTU is a unit that holds *S. aureus subsp. aureus* and *S. aureus subsp. anaerobius*. So each OTU comes with a level statement, though most of the time the OTU names will tell the level because the endings are indicative of the level. [4]\n",
    "\n",
    "**Mothur** can also do the clustering of the sample groups based on their OTU content and run various statistical analysis on them. The only thing **Mothur** cannot do is visualization. This is why I elected to do this analysis in a Jupyter notebook, because here I can mix and match **Bash** and **Python**."
   ]
  },
  {
   "cell_type": "markdown",
   "metadata": {},
   "source": [
    "[1] Human Microbiome Project Consortium, `Structure, function and diversity of the\n",
    "healthy human microbiome`, *Nature*, **2012**, 486, 207-214. doi:10.1038/nature11234.\n",
    "\n",
    "[2] Yarza P., Yilmaz P., Pruesse E., Glöckner F. O., Ludwig W., Schleifer K. H., Whitman W. B., Euzéby J., Amann R., and Rosselló-Móra R., `Uniting the classification of cultured and uncultured bacteria and archaea using 16S rRNA gene sequences` *Nature Reviews Microbiology*, **2014**, 12, 635-645\n",
    "\n",
    "[3] Kozich J. J., Westcott S. L., Baxter N. T., Highlander S. K., and Schloss P. D., `Development of a dual-index sequencing strategy and curation pipeline for analyzing amplicon sequence data on the MiSeq Illumina sequencing platform`, *Applied and Environmental Microbiology*, **2013**, 79, 5112-5120.\n",
    "\n",
    "[4] Wikipedia - Taxonomy https://en.wikipedia.org/wiki/Taxonomy"
   ]
  }
 ],
 "metadata": {
  "kernelspec": {
   "display_name": "Bash",
   "language": "bash",
   "name": "bash"
  },
  "language_info": {
   "codemirror_mode": "shell",
   "file_extension": ".sh",
   "mimetype": "text/x-sh",
   "name": "bash"
  },
  "latex_envs": {
   "LaTeX_envs_menu_present": true,
   "autocomplete": true,
   "bibliofile": "biblio.bib",
   "cite_by": "apalike",
   "current_citInitial": 1,
   "eqLabelWithNumbers": true,
   "eqNumInitial": 1,
   "hotkeys": {
    "equation": "Ctrl-E",
    "itemize": "Ctrl-I"
   },
   "labels_anchors": false,
   "latex_user_defs": false,
   "report_style_numbering": false,
   "user_envs_cfg": false
  }
 },
 "nbformat": 4,
 "nbformat_minor": 2
}
