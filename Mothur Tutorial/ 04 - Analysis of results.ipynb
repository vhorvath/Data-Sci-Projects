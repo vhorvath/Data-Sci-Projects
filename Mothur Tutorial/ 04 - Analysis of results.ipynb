{
 "cells": [
  {
   "cell_type": "markdown",
   "metadata": {},
   "source": [
    "# <center> Mothur tutorial <br/> Analysis of results</center>\n",
    "I wanted to show a higher level view of the results. I thought Python / Pandas will come in handy to produce plots and graphs that summarize the findings. Obviously this all can be done in R or Stata or anything you use on an everyday basis.\n",
    "\n",
    "The original question I address with tis analysis is how our mouse sample and our Mock sample compares to one another in terms of OTUs. I will also check if the OTUs for the Mock sample matches our expectations.\n",
    "\n",
    "## Preparation of the environment\n",
    "First I make the imports of the necessary packages."
   ]
  },
  {
   "cell_type": "code",
   "execution_count": 3,
   "metadata": {
    "collapsed": false
   },
   "outputs": [],
   "source": [
    "import pandas as pd\n",
    "import matplotlib.pyplot as plt\n",
    "import numpy as np\n",
    "import re"
   ]
  },
  {
   "cell_type": "markdown",
   "metadata": {},
   "source": [
    "I import the read count file and process it to make it handy for the analysis."
   ]
  },
  {
   "cell_type": "code",
   "execution_count": 9,
   "metadata": {
    "collapsed": false
   },
   "outputs": [
    {
     "data": {
      "text/html": [
       "<div>\n",
       "<table border=\"1\" class=\"dataframe\">\n",
       "  <thead>\n",
       "    <tr style=\"text-align: right;\">\n",
       "      <th>Group</th>\n",
       "      <th>F3D150</th>\n",
       "      <th>Mock</th>\n",
       "    </tr>\n",
       "  </thead>\n",
       "  <tbody>\n",
       "    <tr>\n",
       "      <th>label</th>\n",
       "      <td>0.03</td>\n",
       "      <td>0.03</td>\n",
       "    </tr>\n",
       "    <tr>\n",
       "      <th>numOtus</th>\n",
       "      <td>199.00</td>\n",
       "      <td>199.00</td>\n",
       "    </tr>\n",
       "    <tr>\n",
       "      <th>Otu001</th>\n",
       "      <td>0.00</td>\n",
       "      <td>551.00</td>\n",
       "    </tr>\n",
       "    <tr>\n",
       "      <th>Otu002</th>\n",
       "      <td>437.00</td>\n",
       "      <td>2.00</td>\n",
       "    </tr>\n",
       "    <tr>\n",
       "      <th>Otu003</th>\n",
       "      <td>0.00</td>\n",
       "      <td>373.00</td>\n",
       "    </tr>\n",
       "  </tbody>\n",
       "</table>\n",
       "</div>"
      ],
      "text/plain": [
       "Group    F3D150    Mock\n",
       "label      0.03    0.03\n",
       "numOtus  199.00  199.00\n",
       "Otu001     0.00  551.00\n",
       "Otu002   437.00    2.00\n",
       "Otu003     0.00  373.00"
      ]
     },
     "execution_count": 9,
     "metadata": {},
     "output_type": "execute_result"
    }
   ],
   "source": [
    "root_file = 'Data/tutor.trim.contigs.good.unique.filter.unique.precluster.pick'\n",
    "shared = pd.read_csv(root_file + '.opti_mcc.unique_list.shared',\n",
    "                     sep='\\t',\n",
    "                     index_col=1).transpose()\n",
    "shared.head()"
   ]
  },
  {
   "cell_type": "markdown",
   "metadata": {},
   "source": [
    "I import the taxonomy information for each OTU, and I expand the `Taxonomy` column to have detailed taxonomy info."
   ]
  },
  {
   "cell_type": "code",
   "execution_count": 286,
   "metadata": {
    "collapsed": false
   },
   "outputs": [
    {
     "data": {
      "text/html": [
       "<div>\n",
       "<table border=\"1\" class=\"dataframe\">\n",
       "  <thead>\n",
       "    <tr style=\"text-align: right;\">\n",
       "      <th></th>\n",
       "      <th>Size</th>\n",
       "      <th>Taxonomy</th>\n",
       "      <th>kingdom</th>\n",
       "      <th>phylum</th>\n",
       "      <th>class</th>\n",
       "      <th>order</th>\n",
       "      <th>family</th>\n",
       "      <th>genus</th>\n",
       "    </tr>\n",
       "    <tr>\n",
       "      <th>OTU</th>\n",
       "      <th></th>\n",
       "      <th></th>\n",
       "      <th></th>\n",
       "      <th></th>\n",
       "      <th></th>\n",
       "      <th></th>\n",
       "      <th></th>\n",
       "      <th></th>\n",
       "    </tr>\n",
       "  </thead>\n",
       "  <tbody>\n",
       "    <tr>\n",
       "      <th>Otu001</th>\n",
       "      <td>551</td>\n",
       "      <td>Bacteria(100);Firmicutes(100);Bacilli(100);Bac...</td>\n",
       "      <td>Bacteria</td>\n",
       "      <td>Firmicutes</td>\n",
       "      <td>Bacilli</td>\n",
       "      <td>Bacillales</td>\n",
       "      <td>Staphylococcaceae</td>\n",
       "      <td>Staphylococcus</td>\n",
       "    </tr>\n",
       "    <tr>\n",
       "      <th>Otu002</th>\n",
       "      <td>439</td>\n",
       "      <td>Bacteria(100);Bacteroidetes(100);Bacteroidia(1...</td>\n",
       "      <td>Bacteria</td>\n",
       "      <td>Bacteroidetes</td>\n",
       "      <td>Bacteroidia</td>\n",
       "      <td>Bacteroidales</td>\n",
       "      <td>Porphyromonadaceae</td>\n",
       "      <td>Barnesiella</td>\n",
       "    </tr>\n",
       "    <tr>\n",
       "      <th>Otu003</th>\n",
       "      <td>373</td>\n",
       "      <td>Bacteria(100);Proteobacteria(100);Gammaproteob...</td>\n",
       "      <td>Bacteria</td>\n",
       "      <td>Proteobacteria</td>\n",
       "      <td>Gammaproteobacteria</td>\n",
       "      <td>Pseudomonadales</td>\n",
       "      <td>Moraxellaceae</td>\n",
       "      <td>Acinetobacter</td>\n",
       "    </tr>\n",
       "    <tr>\n",
       "      <th>Otu004</th>\n",
       "      <td>347</td>\n",
       "      <td>Bacteria(100);Firmicutes(100);Bacilli(100);Bac...</td>\n",
       "      <td>Bacteria</td>\n",
       "      <td>Firmicutes</td>\n",
       "      <td>Bacilli</td>\n",
       "      <td>Bacillales</td>\n",
       "      <td>Bacillales_unclassified</td>\n",
       "      <td>Bacillales_unclassified</td>\n",
       "    </tr>\n",
       "    <tr>\n",
       "      <th>Otu005</th>\n",
       "      <td>343</td>\n",
       "      <td>Bacteria(100);Bacteroidetes(100);Bacteroidia(1...</td>\n",
       "      <td>Bacteria</td>\n",
       "      <td>Bacteroidetes</td>\n",
       "      <td>Bacteroidia</td>\n",
       "      <td>Bacteroidales</td>\n",
       "      <td>Porphyromonadaceae</td>\n",
       "      <td>Porphyromonadaceae_unclassified</td>\n",
       "    </tr>\n",
       "  </tbody>\n",
       "</table>\n",
       "</div>"
      ],
      "text/plain": [
       "        Size                                           Taxonomy   kingdom  \\\n",
       "OTU                                                                         \n",
       "Otu001   551  Bacteria(100);Firmicutes(100);Bacilli(100);Bac...  Bacteria   \n",
       "Otu002   439  Bacteria(100);Bacteroidetes(100);Bacteroidia(1...  Bacteria   \n",
       "Otu003   373  Bacteria(100);Proteobacteria(100);Gammaproteob...  Bacteria   \n",
       "Otu004   347  Bacteria(100);Firmicutes(100);Bacilli(100);Bac...  Bacteria   \n",
       "Otu005   343  Bacteria(100);Bacteroidetes(100);Bacteroidia(1...  Bacteria   \n",
       "\n",
       "                phylum                class            order  \\\n",
       "OTU                                                            \n",
       "Otu001      Firmicutes              Bacilli       Bacillales   \n",
       "Otu002   Bacteroidetes          Bacteroidia    Bacteroidales   \n",
       "Otu003  Proteobacteria  Gammaproteobacteria  Pseudomonadales   \n",
       "Otu004      Firmicutes              Bacilli       Bacillales   \n",
       "Otu005   Bacteroidetes          Bacteroidia    Bacteroidales   \n",
       "\n",
       "                         family                            genus  \n",
       "OTU                                                               \n",
       "Otu001        Staphylococcaceae                   Staphylococcus  \n",
       "Otu002       Porphyromonadaceae                      Barnesiella  \n",
       "Otu003            Moraxellaceae                    Acinetobacter  \n",
       "Otu004  Bacillales_unclassified          Bacillales_unclassified  \n",
       "Otu005       Porphyromonadaceae  Porphyromonadaceae_unclassified  "
      ]
     },
     "execution_count": 286,
     "metadata": {},
     "output_type": "execute_result"
    }
   ],
   "source": [
    "taxonomy = pd.read_csv(root_file + '.opti_mcc.unique_list.0.03.cons.taxonomy',\n",
    "                     sep='\\t',\n",
    "                     index_col=0)\n",
    "\n",
    "ranks = ['kingdom', 'phylum', 'class', 'order', 'family', 'genus']\n",
    "for i in range(0, len(ranks)):\n",
    "    taxonomy[ranks[i]] = taxonomy['Taxonomy'].apply(lambda x: re.sub('\\([0-9]+\\)$', '', x.split(';')[i]))\n",
    "taxonomy.head()"
   ]
  },
  {
   "cell_type": "markdown",
   "metadata": {},
   "source": [
    "## Overview of OTUs\n",
    "\n",
    "I define a helper function to produce some filtering and some pretty graphics for plotting summaries of different taxonomy levels. It can filter for unwanted strings, such as `_unclassified`, and merges all the categories smaller than 1% into the category, `Other` and produce a pretty pie plot."
   ]
  },
  {
   "cell_type": "code",
   "execution_count": 275,
   "metadata": {
    "collapsed": false,
    "scrolled": false
   },
   "outputs": [],
   "source": [
    "def pretty_pie_bact(subject, unwanted=None):\n",
    "    if unwanted is not None:\n",
    "        subject_wanted = subject.iloc[[all([re.search(y, x) is None for y in unwanted]) for x in subject.index], :]\n",
    "    else:\n",
    "        subject_wanted = subject\n",
    "        \n",
    "    subject_wanted_less = subject_wanted[(subject_wanted / subject_wanted.sum()) < 0.01]\n",
    "    subject_wanted = subject_wanted[(subject_wanted / subject_wanted.sum()) >= 0.01]\n",
    "    subject_wanted.append(pd.DataFrame(['Other', float(subject_wanted_less.sum()), ], \n",
    "                                       index=['0', 'Size']).transpose().set_index('0'))\n",
    "\n",
    "    pie_explode = [0] * subject_wanted.shape[0]\n",
    "    pie_explode[0:3] = [0.1] * 3;\n",
    "    ax = subject_wanted.plot.pie(y='Size', autopct='%1d%%', shadow=True, explode=pie_explode, startangle=45)\n",
    "    ax.legend([])\n",
    "    ax.set_ylabel('')\n",
    "    plt.show()"
   ]
  },
  {
   "cell_type": "markdown",
   "metadata": {},
   "source": [
    "The contribution of the different Phylae to the overall variety of reads in the two samples, *combined*."
   ]
  },
  {
   "cell_type": "code",
   "execution_count": 271,
   "metadata": {
    "collapsed": false
   },
   "outputs": [
    {
     "data": {
      "image/png": "[encoded data removed]",
      "text/plain": [
       "<matplotlib.figure.Figure at 0x7f7f675c6dd0>"
      ]
     },
     "metadata": {},
     "output_type": "display_data"
    }
   ],
   "source": [
    "pretty_pie_bact(taxonomy.groupby(['phylum']).sum().sort_values('Size', ascending=False),\n",
    "                ['_unclassified', 'Saccharibacteria'])"
   ]
  },
  {
   "cell_type": "markdown",
   "metadata": {},
   "source": [
    "The same at the a lower level, notice that the phylae start to break up into classes. For example Firmicutes is now in two element in the pie chart."
   ]
  },
  {
   "cell_type": "code",
   "execution_count": 278,
   "metadata": {
    "collapsed": false
   },
   "outputs": [
    {
     "data": {
      "image/png": "[encoded data removed]",
      "text/plain": [
       "<matplotlib.figure.Figure at 0x7f7f689ebc90>"
      ]
     },
     "metadata": {},
     "output_type": "display_data"
    }
   ],
   "source": [
    "pretty_pie_bact(taxonomy.groupby(['phylum', 'class']).sum().sort_values('Size', ascending=False))"
   ]
  },
  {
   "cell_type": "markdown",
   "metadata": {},
   "source": [
    "Finally let's have a look at the order leve. We can see that the most homogeneous phylum is the `Bacteroidetes` which did not fragement even at this level."
   ]
  },
  {
   "cell_type": "code",
   "execution_count": 277,
   "metadata": {
    "collapsed": false
   },
   "outputs": [
    {
     "data": {
      "image/png": "[encoded data removed]",
      "text/plain": [
       "<matplotlib.figure.Figure at 0x7f7f678cd090>"
      ]
     },
     "metadata": {},
     "output_type": "display_data"
    }
   ],
   "source": [
    "pretty_pie_bact(taxonomy.groupby(['phylum', 'class', 'order']).sum().sort_values('Size', ascending=False))"
   ]
  },
  {
   "cell_type": "markdown",
   "metadata": {},
   "source": [
    "## OTUs broken down by sample\n",
    "We can see that there are not very many higher level OTUs. Let's see how these distribute between the samples. By the end of this we should see how different the F3D150 and the Mock sample are.\n",
    "\n",
    "First I strip the summaries (first two rows) off of the count data."
   ]
  },
  {
   "cell_type": "code",
   "execution_count": 14,
   "metadata": {
    "collapsed": false,
    "scrolled": true
   },
   "outputs": [],
   "source": [
    "F3D150 = shared['F3D150'][2::]\n",
    "F3D150 = F3D150[F3D150>0]\n",
    "Mock = shared['Mock'][2::]\n",
    "Mock = Mock[Mock>0]"
   ]
  },
  {
   "cell_type": "markdown",
   "metadata": {},
   "source": [
    "Next, I join the taxonomy information onto the count data for both samples."
   ]
  },
  {
   "cell_type": "code",
   "execution_count": 15,
   "metadata": {
    "collapsed": false
   },
   "outputs": [
    {
     "data": {
      "text/html": [
       "<div>\n",
       "<table border=\"1\" class=\"dataframe\">\n",
       "  <thead>\n",
       "    <tr style=\"text-align: right;\">\n",
       "      <th></th>\n",
       "      <th>Taxonomy</th>\n",
       "      <th>kingdom</th>\n",
       "      <th>phylum</th>\n",
       "      <th>class</th>\n",
       "      <th>order</th>\n",
       "      <th>family</th>\n",
       "      <th>genus</th>\n",
       "      <th>Size</th>\n",
       "    </tr>\n",
       "  </thead>\n",
       "  <tbody>\n",
       "    <tr>\n",
       "      <th>Otu002</th>\n",
       "      <td>Bacteria(100);Bacteroidetes(100);Bacteroidia(1...</td>\n",
       "      <td>Bacteria</td>\n",
       "      <td>Bacteroidetes</td>\n",
       "      <td>Bacteroidia</td>\n",
       "      <td>Bacteroidales</td>\n",
       "      <td>Porphyromonadaceae</td>\n",
       "      <td>Barnesiella</td>\n",
       "      <td>437.0</td>\n",
       "    </tr>\n",
       "    <tr>\n",
       "      <th>Otu005</th>\n",
       "      <td>Bacteria(100);Bacteroidetes(100);Bacteroidia(1...</td>\n",
       "      <td>Bacteria</td>\n",
       "      <td>Bacteroidetes</td>\n",
       "      <td>Bacteroidia</td>\n",
       "      <td>Bacteroidales</td>\n",
       "      <td>Porphyromonadaceae</td>\n",
       "      <td>Porphyromonadaceae_unclassified</td>\n",
       "      <td>343.0</td>\n",
       "    </tr>\n",
       "    <tr>\n",
       "      <th>Otu008</th>\n",
       "      <td>Bacteria(100);Bacteroidetes(100);Bacteroidia(1...</td>\n",
       "      <td>Bacteria</td>\n",
       "      <td>Bacteroidetes</td>\n",
       "      <td>Bacteroidia</td>\n",
       "      <td>Bacteroidales</td>\n",
       "      <td>Porphyromonadaceae</td>\n",
       "      <td>Porphyromonadaceae_unclassified</td>\n",
       "      <td>281.0</td>\n",
       "    </tr>\n",
       "    <tr>\n",
       "      <th>Otu010</th>\n",
       "      <td>Bacteria(100);Bacteroidetes(100);Bacteroidia(1...</td>\n",
       "      <td>Bacteria</td>\n",
       "      <td>Bacteroidetes</td>\n",
       "      <td>Bacteroidia</td>\n",
       "      <td>Bacteroidales</td>\n",
       "      <td>Porphyromonadaceae</td>\n",
       "      <td>Porphyromonadaceae_unclassified</td>\n",
       "      <td>274.0</td>\n",
       "    </tr>\n",
       "    <tr>\n",
       "      <th>Otu012</th>\n",
       "      <td>Bacteria(100);Bacteroidetes(100);Bacteroidia(1...</td>\n",
       "      <td>Bacteria</td>\n",
       "      <td>Bacteroidetes</td>\n",
       "      <td>Bacteroidia</td>\n",
       "      <td>Bacteroidales</td>\n",
       "      <td>Porphyromonadaceae</td>\n",
       "      <td>Porphyromonadaceae_unclassified</td>\n",
       "      <td>264.0</td>\n",
       "    </tr>\n",
       "  </tbody>\n",
       "</table>\n",
       "</div>"
      ],
      "text/plain": [
       "                                                 Taxonomy   kingdom  \\\n",
       "Otu002  Bacteria(100);Bacteroidetes(100);Bacteroidia(1...  Bacteria   \n",
       "Otu005  Bacteria(100);Bacteroidetes(100);Bacteroidia(1...  Bacteria   \n",
       "Otu008  Bacteria(100);Bacteroidetes(100);Bacteroidia(1...  Bacteria   \n",
       "Otu010  Bacteria(100);Bacteroidetes(100);Bacteroidia(1...  Bacteria   \n",
       "Otu012  Bacteria(100);Bacteroidetes(100);Bacteroidia(1...  Bacteria   \n",
       "\n",
       "               phylum        class          order              family  \\\n",
       "Otu002  Bacteroidetes  Bacteroidia  Bacteroidales  Porphyromonadaceae   \n",
       "Otu005  Bacteroidetes  Bacteroidia  Bacteroidales  Porphyromonadaceae   \n",
       "Otu008  Bacteroidetes  Bacteroidia  Bacteroidales  Porphyromonadaceae   \n",
       "Otu010  Bacteroidetes  Bacteroidia  Bacteroidales  Porphyromonadaceae   \n",
       "Otu012  Bacteroidetes  Bacteroidia  Bacteroidales  Porphyromonadaceae   \n",
       "\n",
       "                                  genus   Size  \n",
       "Otu002                      Barnesiella  437.0  \n",
       "Otu005  Porphyromonadaceae_unclassified  343.0  \n",
       "Otu008  Porphyromonadaceae_unclassified  281.0  \n",
       "Otu010  Porphyromonadaceae_unclassified  274.0  \n",
       "Otu012  Porphyromonadaceae_unclassified  264.0  "
      ]
     },
     "execution_count": 15,
     "metadata": {},
     "output_type": "execute_result"
    }
   ],
   "source": [
    "F3D150_taxonomy = taxonomy.iloc[:, 1:].join(F3D150, how='inner')\n",
    "F3D150_taxonomy.rename(columns={'F3D150': 'Size'}, inplace=True)\n",
    "Mock_taxonomy = taxonomy.iloc[:, 1:].join(Mock, how='inner')\n",
    "Mock_taxonomy.rename(columns={'Mock': 'Size'}, inplace=True)\n",
    "F3D150_taxonomy.head()"
   ]
  },
  {
   "cell_type": "markdown",
   "metadata": {},
   "source": [
    "Below I group OTUs at the class level to have a higher level view. Then, I list the number of reads in each OTU per sample."
   ]
  },
  {
   "cell_type": "code",
   "execution_count": 123,
   "metadata": {
    "collapsed": false
   },
   "outputs": [
    {
     "data": {
      "text/html": [
       "<div>\n",
       "<table border=\"1\" class=\"dataframe\">\n",
       "  <thead>\n",
       "    <tr style=\"text-align: right;\">\n",
       "      <th></th>\n",
       "      <th></th>\n",
       "      <th>Size</th>\n",
       "    </tr>\n",
       "    <tr>\n",
       "      <th>phylum</th>\n",
       "      <th>class</th>\n",
       "      <th></th>\n",
       "    </tr>\n",
       "  </thead>\n",
       "  <tbody>\n",
       "    <tr>\n",
       "      <th>Actinobacteria</th>\n",
       "      <th>Actinobacteria</th>\n",
       "      <td>28.0</td>\n",
       "    </tr>\n",
       "    <tr>\n",
       "      <th>Bacteria_unclassified</th>\n",
       "      <th>Bacteria_unclassified</th>\n",
       "      <td>29.0</td>\n",
       "    </tr>\n",
       "    <tr>\n",
       "      <th rowspan=\"2\" valign=\"top\">Bacteroidetes</th>\n",
       "      <th>Bacteroidetes_unclassified</th>\n",
       "      <td>1.0</td>\n",
       "    </tr>\n",
       "    <tr>\n",
       "      <th>Bacteroidia</th>\n",
       "      <td>2574.0</td>\n",
       "    </tr>\n",
       "    <tr>\n",
       "      <th>Candidatus_Saccharibacteria</th>\n",
       "      <th>Candidatus_Saccharibacteria_unclassified</th>\n",
       "      <td>2.0</td>\n",
       "    </tr>\n",
       "    <tr>\n",
       "      <th rowspan=\"4\" valign=\"top\">Firmicutes</th>\n",
       "      <th>Bacilli</th>\n",
       "      <td>131.0</td>\n",
       "    </tr>\n",
       "    <tr>\n",
       "      <th>Clostridia</th>\n",
       "      <td>1263.0</td>\n",
       "    </tr>\n",
       "    <tr>\n",
       "      <th>Erysipelotrichia</th>\n",
       "      <td>30.0</td>\n",
       "    </tr>\n",
       "    <tr>\n",
       "      <th>Firmicutes_unclassified</th>\n",
       "      <td>70.0</td>\n",
       "    </tr>\n",
       "    <tr>\n",
       "      <th>Proteobacteria</th>\n",
       "      <th>Gammaproteobacteria</th>\n",
       "      <td>2.0</td>\n",
       "    </tr>\n",
       "  </tbody>\n",
       "</table>\n",
       "</div>"
      ],
      "text/plain": [
       "                                                                        Size\n",
       "phylum                      class                                           \n",
       "Actinobacteria              Actinobacteria                              28.0\n",
       "Bacteria_unclassified       Bacteria_unclassified                       29.0\n",
       "Bacteroidetes               Bacteroidetes_unclassified                   1.0\n",
       "                            Bacteroidia                               2574.0\n",
       "Candidatus_Saccharibacteria Candidatus_Saccharibacteria_unclassified     2.0\n",
       "Firmicutes                  Bacilli                                    131.0\n",
       "                            Clostridia                                1263.0\n",
       "                            Erysipelotrichia                            30.0\n",
       "                            Firmicutes_unclassified                     70.0\n",
       "Proteobacteria              Gammaproteobacteria                          2.0"
      ]
     },
     "execution_count": 123,
     "metadata": {},
     "output_type": "execute_result"
    }
   ],
   "source": [
    "grouping = ['phylum', 'class'];\n",
    "F3D150_orders = F3D150_taxonomy.groupby(grouping).sum().sort_index()\n",
    "Mock_orders = Mock_taxonomy.groupby(grouping).sum().sort_index()\n",
    "F3D150_orders"
   ]
  },
  {
   "cell_type": "code",
   "execution_count": 124,
   "metadata": {
    "collapsed": false
   },
   "outputs": [
    {
     "data": {
      "text/html": [
       "<div>\n",
       "<table border=\"1\" class=\"dataframe\">\n",
       "  <thead>\n",
       "    <tr style=\"text-align: right;\">\n",
       "      <th></th>\n",
       "      <th></th>\n",
       "      <th>Size</th>\n",
       "    </tr>\n",
       "    <tr>\n",
       "      <th>phylum</th>\n",
       "      <th>class</th>\n",
       "      <th></th>\n",
       "    </tr>\n",
       "  </thead>\n",
       "  <tbody>\n",
       "    <tr>\n",
       "      <th>Actinobacteria</th>\n",
       "      <th>Actinobacteria</th>\n",
       "      <td>290.0</td>\n",
       "    </tr>\n",
       "    <tr>\n",
       "      <th>Bacteria_unclassified</th>\n",
       "      <th>Bacteria_unclassified</th>\n",
       "      <td>2.0</td>\n",
       "    </tr>\n",
       "    <tr>\n",
       "      <th>Bacteroidetes</th>\n",
       "      <th>Bacteroidia</th>\n",
       "      <td>338.0</td>\n",
       "    </tr>\n",
       "    <tr>\n",
       "      <th>Deinococcus-Thermus</th>\n",
       "      <th>Deinococci</th>\n",
       "      <td>103.0</td>\n",
       "    </tr>\n",
       "    <tr>\n",
       "      <th rowspan=\"2\" valign=\"top\">Firmicutes</th>\n",
       "      <th>Bacilli</th>\n",
       "      <td>1723.0</td>\n",
       "    </tr>\n",
       "    <tr>\n",
       "      <th>Clostridia</th>\n",
       "      <td>281.0</td>\n",
       "    </tr>\n",
       "    <tr>\n",
       "      <th rowspan=\"4\" valign=\"top\">Proteobacteria</th>\n",
       "      <th>Alphaproteobacteria</th>\n",
       "      <td>46.0</td>\n",
       "    </tr>\n",
       "    <tr>\n",
       "      <th>Betaproteobacteria</th>\n",
       "      <td>276.0</td>\n",
       "    </tr>\n",
       "    <tr>\n",
       "      <th>Epsilonproteobacteria</th>\n",
       "      <td>318.0</td>\n",
       "    </tr>\n",
       "    <tr>\n",
       "      <th>Gammaproteobacteria</th>\n",
       "      <td>679.0</td>\n",
       "    </tr>\n",
       "  </tbody>\n",
       "</table>\n",
       "</div>"
      ],
      "text/plain": [
       "                                               Size\n",
       "phylum                class                        \n",
       "Actinobacteria        Actinobacteria          290.0\n",
       "Bacteria_unclassified Bacteria_unclassified     2.0\n",
       "Bacteroidetes         Bacteroidia             338.0\n",
       "Deinococcus-Thermus   Deinococci              103.0\n",
       "Firmicutes            Bacilli                1723.0\n",
       "                      Clostridia              281.0\n",
       "Proteobacteria        Alphaproteobacteria      46.0\n",
       "                      Betaproteobacteria      276.0\n",
       "                      Epsilonproteobacteria   318.0\n",
       "                      Gammaproteobacteria     679.0"
      ]
     },
     "execution_count": 124,
     "metadata": {},
     "output_type": "execute_result"
    }
   ],
   "source": [
    "Mock_orders"
   ]
  },
  {
   "cell_type": "markdown",
   "metadata": {},
   "source": [
    "Next I visualize the results to make comparison slightly easier."
   ]
  },
  {
   "cell_type": "code",
   "execution_count": 125,
   "metadata": {
    "collapsed": false
   },
   "outputs": [
    {
     "data": {
      "image/png": "[encoded data removed]",
      "text/plain": [
       "<matplotlib.figure.Figure at 0x7f7f67896fd0>"
      ]
     },
     "metadata": {},
     "output_type": "display_data"
    },
    {
     "data": {
      "image/png": "[encoded data removed]",
      "text/plain": [
       "<matplotlib.figure.Figure at 0x7f7f678966d0>"
      ]
     },
     "metadata": {},
     "output_type": "display_data"
    }
   ],
   "source": [
    "ax = F3D150_orders.plot.barh(y='Size', color='red', title='F3D150', legend=[])\n",
    "ax.set_ylabel('')\n",
    "ax.set_xlim([0, 2700])\n",
    "ax = Mock_orders.plot.barh(y='Size', color='blue', title='Mock', legend=[])\n",
    "ax.set_ylabel('')\n",
    "ax.set_xlim([0, 2700])\n",
    "plt.show()"
   ]
  },
  {
   "cell_type": "markdown",
   "metadata": {},
   "source": [
    "It is clear that the two samples are different qualitatively and quantitatively. Note that the `Bacteroidetes` phylum produced the most reads for `F3D150` while `Firmicutes` was the most pronunced in the `Mock` sample. The overall contig number in the two samples was nearly the same, as shown below."
   ]
  },
  {
   "cell_type": "code",
   "execution_count": 23,
   "metadata": {
    "collapsed": false
   },
   "outputs": [
    {
     "name": "stdout",
     "output_type": "stream",
     "text": [
      "Size    4130.0\n",
      "dtype: float64\n",
      "Size    4056.0\n",
      "dtype: float64\n"
     ]
    }
   ],
   "source": [
    "print F3D150_orders.sum()\n",
    "print Mock_orders.sum()"
   ]
  },
  {
   "cell_type": "markdown",
   "metadata": {},
   "source": [
    "## Validation of the data analysis using the composition of the `Mock` sample\n",
    "Here I assess if the Mock sample has the same composition as reported in the reference fasta file: `HMP_MOCK.v35.fasta.gz`. To do this, I first need to extract the species names and obtain the taxonomy data. I will use the EBI database API to pull the necessary information.\n",
    "\n",
    "First, I extract the unique names from the FASTA file."
   ]
  },
  {
   "cell_type": "code",
   "execution_count": 4,
   "metadata": {
    "collapsed": false
   },
   "outputs": [
    {
     "name": "stdout",
     "output_type": "stream",
     "text": [
      "A. baumannii\n",
      "A. odontolyticus\n",
      "B. cereus\n",
      "B. vulgatus\n",
      "C. beijerinckii\n",
      "D. radiodurans\n",
      "E. faecalis\n",
      "E. coli\n",
      "H. pylori\n",
      "L. gasseri\n",
      "L. monocytogenes\n",
      "N. meningitidis\n",
      "P. acnes\n",
      "P. aeruginosa\n",
      "P. gingivalis\n",
      "R. sphaeroides\n",
      "S. aureus\n",
      "S. epidermidis\n",
      "S. agalactiae\n",
      "S. mutans\n",
      "S. pneumoniae\n"
     ]
    }
   ],
   "source": [
    "gunzip -c Data/HMP_MOCK.v35.fasta.gz | grep '^>' | tr -d '>' | cut -f1,2 -d '.' | uniq | sed 's/\\./. /'"
   ]
  },
  {
   "cell_type": "markdown",
   "metadata": {},
   "source": [
    "Unfortunately the EBI lookup does not support the partial names well, therefore I manually had to resolve the full names for taxonomy lookup. Note that *P. acnes* is missing, the EBI database lookup was unsuccessful, so I removed it."
   ]
  },
  {
   "cell_type": "code",
   "execution_count": 1,
   "metadata": {
    "collapsed": false
   },
   "outputs": [],
   "source": [
    "Mock_sample_known_raw = \\\n",
    "'''Acinetobacter baumannii\n",
    "Actinomyces odontolyticus\n",
    "Bacillus cereus\n",
    "Bacteroides vulgatus\n",
    "Clostridium beijerinckii\n",
    "Deinococcus radiodurans\n",
    "Enterococcus faecalis\n",
    "Escherichia coli\n",
    "Helicobacter pylori\n",
    "Lactobacillus gasseri\n",
    "Listeria monocytogenes\n",
    "Neisseria meningitidis\n",
    "Pseudomonas aeruginosa\n",
    "Porphyromonas gingivalis\n",
    "Rhodobacter sphaeroides\n",
    "Staphylococcus aureus\n",
    "Staphylococcus epidermidis\n",
    "Streptococcus agalactiae\n",
    "Streptococcus mutans\n",
    "Streptococcus pneumoniae'''.split('\\n')"
   ]
  },
  {
   "cell_type": "markdown",
   "metadata": {},
   "source": [
    "The function below will fetch taxonomical data from EBI server and it also processes this information. Only one lookup is possible at a time."
   ]
  },
  {
   "cell_type": "code",
   "execution_count": 151,
   "metadata": {
    "collapsed": false
   },
   "outputs": [],
   "source": [
    "import requests\n",
    "# Helper function to obtain lineage\n",
    "def get_lineage(sci_name):\n",
    "    retry = True\n",
    "    while retry:\n",
    "        try:\n",
    "            req = requests.get(url='http://www.ebi.ac.uk/ena/data/taxonomy/v1/taxon/scientific-name/{}'.format(sci_name.replace(' ', '%20')),\n",
    "                               timeout=2)\n",
    "            retry = False\n",
    "        except requests.exceptions.Timeout:\n",
    "            retry = True\n",
    "            \n",
    "    keys = ['kingdom', 'phylum', 'class', 'order', 'family', 'genus', 'species']\n",
    "    values = (req.json()[0].get('lineage').replace(';','') + req.json()[0].get('scientificName')).split(' ')\n",
    "    return(dict(zip(keys, values)))"
   ]
  },
  {
   "cell_type": "markdown",
   "metadata": {},
   "source": [
    "I obtain the lineages for all bacterial species below."
   ]
  },
  {
   "cell_type": "code",
   "execution_count": 152,
   "metadata": {
    "collapsed": false
   },
   "outputs": [],
   "source": [
    "lineages_raw = []\n",
    "# Looping through all taxa and fetching all lineage data\n",
    "for species in Mock_sample_known_raw:\n",
    "    lineages_raw.append(get_lineage(species))"
   ]
  },
  {
   "cell_type": "markdown",
   "metadata": {},
   "source": [
    "I process the lineages to be in a similar DataFrame as the sample data are."
   ]
  },
  {
   "cell_type": "code",
   "execution_count": 155,
   "metadata": {
    "collapsed": false
   },
   "outputs": [
    {
     "data": {
      "text/html": [
       "<div>\n",
       "<table border=\"1\" class=\"dataframe\">\n",
       "  <thead>\n",
       "    <tr style=\"text-align: right;\">\n",
       "      <th></th>\n",
       "      <th>class</th>\n",
       "      <th>family</th>\n",
       "      <th>genus</th>\n",
       "      <th>kingdom</th>\n",
       "      <th>order</th>\n",
       "      <th>phylum</th>\n",
       "      <th>species</th>\n",
       "    </tr>\n",
       "  </thead>\n",
       "  <tbody>\n",
       "    <tr>\n",
       "      <th>0</th>\n",
       "      <td>Gammaproteobacteria</td>\n",
       "      <td>Moraxellaceae</td>\n",
       "      <td>Acinetobacter</td>\n",
       "      <td>Bacteria</td>\n",
       "      <td>Pseudomonadales</td>\n",
       "      <td>Proteobacteria</td>\n",
       "      <td>Acinetobacter</td>\n",
       "    </tr>\n",
       "    <tr>\n",
       "      <th>1</th>\n",
       "      <td>Actinomycetales</td>\n",
       "      <td>Actinomyces</td>\n",
       "      <td>Actinomyces</td>\n",
       "      <td>Bacteria</td>\n",
       "      <td>Actinomycetaceae</td>\n",
       "      <td>Actinobacteria</td>\n",
       "      <td>odontolyticus</td>\n",
       "    </tr>\n",
       "    <tr>\n",
       "      <th>2</th>\n",
       "      <td>Bacilli</td>\n",
       "      <td>Bacillaceae</td>\n",
       "      <td>Bacillus</td>\n",
       "      <td>Bacteria</td>\n",
       "      <td>Bacillales</td>\n",
       "      <td>Firmicutes</td>\n",
       "      <td>Bacillus</td>\n",
       "    </tr>\n",
       "    <tr>\n",
       "      <th>3</th>\n",
       "      <td>Bacteroidia</td>\n",
       "      <td>Bacteroidaceae</td>\n",
       "      <td>Bacteroides</td>\n",
       "      <td>Bacteria</td>\n",
       "      <td>Bacteroidales</td>\n",
       "      <td>Bacteroidetes</td>\n",
       "      <td>Bacteroides</td>\n",
       "    </tr>\n",
       "    <tr>\n",
       "      <th>4</th>\n",
       "      <td>Clostridia</td>\n",
       "      <td>Clostridiaceae</td>\n",
       "      <td>Clostridium</td>\n",
       "      <td>Bacteria</td>\n",
       "      <td>Clostridiales</td>\n",
       "      <td>Firmicutes</td>\n",
       "      <td>Clostridium</td>\n",
       "    </tr>\n",
       "    <tr>\n",
       "      <th>5</th>\n",
       "      <td>Deinococci</td>\n",
       "      <td>Deinococcaceae</td>\n",
       "      <td>Deinococcus</td>\n",
       "      <td>Bacteria</td>\n",
       "      <td>Deinococcales</td>\n",
       "      <td>Deinococcus-Thermus</td>\n",
       "      <td>Deinococcus</td>\n",
       "    </tr>\n",
       "    <tr>\n",
       "      <th>6</th>\n",
       "      <td>Bacilli</td>\n",
       "      <td>Enterococcaceae</td>\n",
       "      <td>Enterococcus</td>\n",
       "      <td>Bacteria</td>\n",
       "      <td>Lactobacillales</td>\n",
       "      <td>Firmicutes</td>\n",
       "      <td>Enterococcus</td>\n",
       "    </tr>\n",
       "    <tr>\n",
       "      <th>7</th>\n",
       "      <td>Gammaproteobacteria</td>\n",
       "      <td>Enterobacteriaceae</td>\n",
       "      <td>Escherichia</td>\n",
       "      <td>Bacteria</td>\n",
       "      <td>Enterobacterales</td>\n",
       "      <td>Proteobacteria</td>\n",
       "      <td>Escherichia</td>\n",
       "    </tr>\n",
       "    <tr>\n",
       "      <th>8</th>\n",
       "      <td>Epsilonproteobacteria</td>\n",
       "      <td>Helicobacteraceae</td>\n",
       "      <td>Helicobacter</td>\n",
       "      <td>Bacteria</td>\n",
       "      <td>Campylobacterales</td>\n",
       "      <td>Proteobacteria</td>\n",
       "      <td>Helicobacter</td>\n",
       "    </tr>\n",
       "    <tr>\n",
       "      <th>9</th>\n",
       "      <td>Bacilli</td>\n",
       "      <td>Lactobacillaceae</td>\n",
       "      <td>Lactobacillus</td>\n",
       "      <td>Bacteria</td>\n",
       "      <td>Lactobacillales</td>\n",
       "      <td>Firmicutes</td>\n",
       "      <td>Lactobacillus</td>\n",
       "    </tr>\n",
       "    <tr>\n",
       "      <th>10</th>\n",
       "      <td>Bacilli</td>\n",
       "      <td>Listeriaceae</td>\n",
       "      <td>Listeria</td>\n",
       "      <td>Bacteria</td>\n",
       "      <td>Bacillales</td>\n",
       "      <td>Firmicutes</td>\n",
       "      <td>Listeria</td>\n",
       "    </tr>\n",
       "    <tr>\n",
       "      <th>11</th>\n",
       "      <td>Betaproteobacteria</td>\n",
       "      <td>Neisseriaceae</td>\n",
       "      <td>Neisseria</td>\n",
       "      <td>Bacteria</td>\n",
       "      <td>Neisseriales</td>\n",
       "      <td>Proteobacteria</td>\n",
       "      <td>Neisseria</td>\n",
       "    </tr>\n",
       "    <tr>\n",
       "      <th>12</th>\n",
       "      <td>Gammaproteobacteria</td>\n",
       "      <td>Pseudomonadaceae</td>\n",
       "      <td>Pseudomonas</td>\n",
       "      <td>Bacteria</td>\n",
       "      <td>Pseudomonadales</td>\n",
       "      <td>Proteobacteria</td>\n",
       "      <td>Pseudomonas</td>\n",
       "    </tr>\n",
       "    <tr>\n",
       "      <th>13</th>\n",
       "      <td>Bacteroidia</td>\n",
       "      <td>Porphyromonadaceae</td>\n",
       "      <td>Porphyromonas</td>\n",
       "      <td>Bacteria</td>\n",
       "      <td>Bacteroidales</td>\n",
       "      <td>Bacteroidetes</td>\n",
       "      <td>Porphyromonas</td>\n",
       "    </tr>\n",
       "    <tr>\n",
       "      <th>14</th>\n",
       "      <td>Alphaproteobacteria</td>\n",
       "      <td>Rhodobacteraceae</td>\n",
       "      <td>Rhodobacter</td>\n",
       "      <td>Bacteria</td>\n",
       "      <td>Rhodobacterales</td>\n",
       "      <td>Proteobacteria</td>\n",
       "      <td>Rhodobacter</td>\n",
       "    </tr>\n",
       "    <tr>\n",
       "      <th>15</th>\n",
       "      <td>Bacilli</td>\n",
       "      <td>Staphylococcaceae</td>\n",
       "      <td>Staphylococcus</td>\n",
       "      <td>Bacteria</td>\n",
       "      <td>Bacillales</td>\n",
       "      <td>Firmicutes</td>\n",
       "      <td>Staphylococcus</td>\n",
       "    </tr>\n",
       "    <tr>\n",
       "      <th>16</th>\n",
       "      <td>Bacilli</td>\n",
       "      <td>Staphylococcaceae</td>\n",
       "      <td>Staphylococcus</td>\n",
       "      <td>Bacteria</td>\n",
       "      <td>Bacillales</td>\n",
       "      <td>Firmicutes</td>\n",
       "      <td>Staphylococcus</td>\n",
       "    </tr>\n",
       "    <tr>\n",
       "      <th>17</th>\n",
       "      <td>Bacilli</td>\n",
       "      <td>Streptococcaceae</td>\n",
       "      <td>Streptococcus</td>\n",
       "      <td>Bacteria</td>\n",
       "      <td>Lactobacillales</td>\n",
       "      <td>Firmicutes</td>\n",
       "      <td>Streptococcus</td>\n",
       "    </tr>\n",
       "    <tr>\n",
       "      <th>18</th>\n",
       "      <td>Bacilli</td>\n",
       "      <td>Streptococcaceae</td>\n",
       "      <td>Streptococcus</td>\n",
       "      <td>Bacteria</td>\n",
       "      <td>Lactobacillales</td>\n",
       "      <td>Firmicutes</td>\n",
       "      <td>Streptococcus</td>\n",
       "    </tr>\n",
       "    <tr>\n",
       "      <th>19</th>\n",
       "      <td>Bacilli</td>\n",
       "      <td>Streptococcaceae</td>\n",
       "      <td>Streptococcus</td>\n",
       "      <td>Bacteria</td>\n",
       "      <td>Lactobacillales</td>\n",
       "      <td>Firmicutes</td>\n",
       "      <td>Streptococcus</td>\n",
       "    </tr>\n",
       "  </tbody>\n",
       "</table>\n",
       "</div>"
      ],
      "text/plain": [
       "                    class              family           genus   kingdom  \\\n",
       "0     Gammaproteobacteria       Moraxellaceae   Acinetobacter  Bacteria   \n",
       "1         Actinomycetales         Actinomyces     Actinomyces  Bacteria   \n",
       "2                 Bacilli         Bacillaceae        Bacillus  Bacteria   \n",
       "3             Bacteroidia      Bacteroidaceae     Bacteroides  Bacteria   \n",
       "4              Clostridia      Clostridiaceae     Clostridium  Bacteria   \n",
       "5              Deinococci      Deinococcaceae     Deinococcus  Bacteria   \n",
       "6                 Bacilli     Enterococcaceae    Enterococcus  Bacteria   \n",
       "7     Gammaproteobacteria  Enterobacteriaceae     Escherichia  Bacteria   \n",
       "8   Epsilonproteobacteria   Helicobacteraceae    Helicobacter  Bacteria   \n",
       "9                 Bacilli    Lactobacillaceae   Lactobacillus  Bacteria   \n",
       "10                Bacilli        Listeriaceae        Listeria  Bacteria   \n",
       "11     Betaproteobacteria       Neisseriaceae       Neisseria  Bacteria   \n",
       "12    Gammaproteobacteria    Pseudomonadaceae     Pseudomonas  Bacteria   \n",
       "13            Bacteroidia  Porphyromonadaceae   Porphyromonas  Bacteria   \n",
       "14    Alphaproteobacteria    Rhodobacteraceae     Rhodobacter  Bacteria   \n",
       "15                Bacilli   Staphylococcaceae  Staphylococcus  Bacteria   \n",
       "16                Bacilli   Staphylococcaceae  Staphylococcus  Bacteria   \n",
       "17                Bacilli    Streptococcaceae   Streptococcus  Bacteria   \n",
       "18                Bacilli    Streptococcaceae   Streptococcus  Bacteria   \n",
       "19                Bacilli    Streptococcaceae   Streptococcus  Bacteria   \n",
       "\n",
       "                order               phylum         species  \n",
       "0     Pseudomonadales       Proteobacteria   Acinetobacter  \n",
       "1    Actinomycetaceae       Actinobacteria   odontolyticus  \n",
       "2          Bacillales           Firmicutes        Bacillus  \n",
       "3       Bacteroidales        Bacteroidetes     Bacteroides  \n",
       "4       Clostridiales           Firmicutes     Clostridium  \n",
       "5       Deinococcales  Deinococcus-Thermus     Deinococcus  \n",
       "6     Lactobacillales           Firmicutes    Enterococcus  \n",
       "7    Enterobacterales       Proteobacteria     Escherichia  \n",
       "8   Campylobacterales       Proteobacteria    Helicobacter  \n",
       "9     Lactobacillales           Firmicutes   Lactobacillus  \n",
       "10         Bacillales           Firmicutes        Listeria  \n",
       "11       Neisseriales       Proteobacteria       Neisseria  \n",
       "12    Pseudomonadales       Proteobacteria     Pseudomonas  \n",
       "13      Bacteroidales        Bacteroidetes   Porphyromonas  \n",
       "14    Rhodobacterales       Proteobacteria     Rhodobacter  \n",
       "15         Bacillales           Firmicutes  Staphylococcus  \n",
       "16         Bacillales           Firmicutes  Staphylococcus  \n",
       "17    Lactobacillales           Firmicutes   Streptococcus  \n",
       "18    Lactobacillales           Firmicutes   Streptococcus  \n",
       "19    Lactobacillales           Firmicutes   Streptococcus  "
      ]
     },
     "execution_count": 155,
     "metadata": {},
     "output_type": "execute_result"
    }
   ],
   "source": [
    "lineages = pd.DataFrame(lineages_raw, index=range(0, len(Mock_sample_known_raw)))\n",
    "lineages"
   ]
  },
  {
   "cell_type": "markdown",
   "metadata": {},
   "source": [
    "I obtain a normalized represenation of the individual OTUs on the class level, assuming that each species was represnted by the same number of bacteria in the Mock sample."
   ]
  },
  {
   "cell_type": "code",
   "execution_count": 281,
   "metadata": {
    "collapsed": false
   },
   "outputs": [
    {
     "data": {
      "text/plain": [
       "phylum               class                \n",
       "Actinobacteria       Actinomycetales           5.0\n",
       "Bacteroidetes        Bacteroidia              10.0\n",
       "Deinococcus-Thermus  Deinococci                5.0\n",
       "Firmicutes           Bacilli                  45.0\n",
       "                     Clostridia                5.0\n",
       "Proteobacteria       Alphaproteobacteria       5.0\n",
       "                     Betaproteobacteria        5.0\n",
       "                     Epsilonproteobacteria     5.0\n",
       "                     Gammaproteobacteria      15.0\n",
       "Name: Size, dtype: float64"
      ]
     },
     "execution_count": 281,
     "metadata": {},
     "output_type": "execute_result"
    }
   ],
   "source": [
    "lineages['Size']=[1] * lineages.shape[0]\n",
    "lineages_order = lineages.groupby(['phylum', 'class']).sum()\n",
    "lineages_groupped=lineages_order['Size']/sum(lineages_order['Size'])*100\n",
    "lineages_groupped"
   ]
  },
  {
   "cell_type": "markdown",
   "metadata": {},
   "source": [
    "I generate a normalized OTU list on the class level based on the contig numbers in the Mock sample."
   ]
  },
  {
   "cell_type": "code",
   "execution_count": 282,
   "metadata": {
    "collapsed": false
   },
   "outputs": [
    {
     "data": {
      "text/plain": [
       "phylum                 class                \n",
       "Actinobacteria         Actinobacteria            7.0\n",
       "Bacteria_unclassified  Bacteria_unclassified     0.0\n",
       "Bacteroidetes          Bacteroidia               8.0\n",
       "Deinococcus-Thermus    Deinococci                3.0\n",
       "Firmicutes             Bacilli                  42.0\n",
       "                       Clostridia                7.0\n",
       "Proteobacteria         Alphaproteobacteria       1.0\n",
       "                       Betaproteobacteria        7.0\n",
       "                       Epsilonproteobacteria     8.0\n",
       "                       Gammaproteobacteria      17.0\n",
       "Name: Size, dtype: float64"
      ]
     },
     "execution_count": 282,
     "metadata": {},
     "output_type": "execute_result"
    }
   ],
   "source": [
    "Mock_orders_groupped = (Mock_orders['Size']/sum(Mock_orders['Size'])*100).round()\n",
    "Mock_orders_groupped"
   ]
  },
  {
   "cell_type": "markdown",
   "metadata": {},
   "source": [
    "To get a better feel for the differences or similarities I post a barplot where the two datasets are plotted on the same axis, i.e. the bar positions are the same. Matching height indicates agreement."
   ]
  },
  {
   "cell_type": "code",
   "execution_count": 285,
   "metadata": {
    "collapsed": false
   },
   "outputs": [
    {
     "data": {
      "image/png": "[encoded data removed]",
      "text/plain": [
       "<matplotlib.figure.Figure at 0x7f7f65bd9710>"
      ]
     },
     "metadata": {},
     "output_type": "display_data"
    }
   ],
   "source": [
    "ax = lineages_groupped.plot.barh()\n",
    "Mock_orders_groupped[Mock_orders_groupped>0].plot.barh(position=1, color='red')\n",
    "plt.show()"
   ]
  },
  {
   "cell_type": "markdown",
   "metadata": {},
   "source": [
    "At the Class level the agreement is fairly good, almost quantitative!"
   ]
  }
 ],
 "metadata": {
  "kernelspec": {
   "display_name": "Python 2",
   "language": "python",
   "name": "python2"
  },
  "language_info": {
   "codemirror_mode": {
    "name": "ipython",
    "version": 2
   },
   "file_extension": ".py",
   "mimetype": "text/x-python",
   "name": "python",
   "nbconvert_exporter": "python",
   "pygments_lexer": "ipython2",
   "version": "2.7.12"
  },
  "latex_envs": {
   "LaTeX_envs_menu_present": true,
   "autocomplete": true,
   "bibliofile": "biblio.bib",
   "cite_by": "apalike",
   "current_citInitial": 1,
   "eqLabelWithNumbers": true,
   "eqNumInitial": 1,
   "hotkeys": {
    "equation": "Ctrl-E",
    "itemize": "Ctrl-I"
   },
   "labels_anchors": false,
   "latex_user_defs": false,
   "report_style_numbering": false,
   "user_envs_cfg": false
  }
 },
 "nbformat": 4,
 "nbformat_minor": 2
}
