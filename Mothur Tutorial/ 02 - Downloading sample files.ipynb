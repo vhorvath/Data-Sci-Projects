{
 "cells": [
  {
   "cell_type": "markdown",
   "metadata": {},
   "source": [
    "# <center> Mothur tutorial <br/> Downloading data for analysis</center>\n",
    "The installation section took a relatively long time to compile, therefore I will perform a relatively simple analysis."
   ]
  },
  {
   "cell_type": "markdown",
   "metadata": {},
   "source": [
    "## (a) Sample Sequence data\n",
    "We will be working with mice fecal data, the tutorial works with a subset of a bigger dataset published as the original paper referenced by [1]. Here I will use an even smaller a subset of the subset to keep the process short."
   ]
  },
  {
   "cell_type": "code",
   "execution_count": null,
   "metadata": {
    "collapsed": false
   },
   "outputs": [],
   "source": [
    "wget https://www.mothur.org/w/images/d/d6/MiSeqSOPData.zip"
   ]
  },
  {
   "cell_type": "markdown",
   "metadata": {},
   "source": [
    "Let's take a look what we get in this archive. There are many files in this archive created with macOS, so there are also junk files, hence my filter in the pipeline."
   ]
  },
  {
   "cell_type": "code",
   "execution_count": 7,
   "metadata": {
    "collapsed": false,
    "scrolled": true
   },
   "outputs": [
    {
     "name": "stdout",
     "output_type": "stream",
     "text": [
      "Archive:  MiSeqSOPData.zip\n",
      "  Length      Date    Time    Name\n",
      "---------  ---------- -----   ----\n",
      "        0  2014-08-14 16:03   MiSeq_SOP/\n",
      "  4375560  2013-03-28 09:17   MiSeq_SOP/F3D0_S188_L001_R1_001.fastq\n",
      "  4370800  2013-03-28 09:17   MiSeq_SOP/F3D0_S188_L001_R2_001.fastq\n",
      "  3345300  2013-03-28 09:17   MiSeq_SOP/F3D141_S207_L001_R1_001.fastq\n",
      "  3340982  2013-03-28 09:17   MiSeq_SOP/F3D141_S207_L001_R2_001.fastq\n",
      "  1787268  2013-03-28 09:17   MiSeq_SOP/F3D142_S208_L001_R1_001.fastq\n",
      "  1784740  2013-03-28 09:17   MiSeq_SOP/F3D142_S208_L001_R2_001.fastq\n",
      "  1784360  2013-03-28 09:17   MiSeq_SOP/F3D143_S209_L001_R1_001.fastq\n",
      "  1782200  2013-03-28 09:17   MiSeq_SOP/F3D143_S209_L001_R2_001.fastq\n",
      "  2710311  2013-03-28 09:17   MiSeq_SOP/F3D144_S210_L001_R1_001.fastq\n",
      "  2706259  2013-03-28 09:17   MiSeq_SOP/F3D144_S210_L001_R2_001.fastq\n",
      "  4142241  2013-03-28 09:17   MiSeq_SOP/F3D145_S211_L001_R1_001.fastq\n",
      "  4135947  2013-03-28 09:17   MiSeq_SOP/F3D145_S211_L001_R2_001.fastq\n",
      "  2819293  2013-03-28 09:17   MiSeq_SOP/F3D146_S212_L001_R1_001.fastq\n",
      "  2816029  2013-03-28 09:17   MiSeq_SOP/F3D146_S212_L001_R2_001.fastq\n",
      "  9584828  2013-03-28 09:17   MiSeq_SOP/F3D147_S213_L001_R1_001.fastq\n",
      "  9570396  2013-03-28 09:17   MiSeq_SOP/F3D147_S213_L001_R2_001.fastq\n",
      "  6965412  2013-03-28 09:17   MiSeq_SOP/F3D148_S214_L001_R1_001.fastq\n",
      "  6956060  2013-03-28 09:17   MiSeq_SOP/F3D148_S214_L001_R2_001.fastq\n",
      "  7345819  2013-03-28 09:17   MiSeq_SOP/F3D149_S215_L001_R1_001.fastq\n",
      "  7336241  2013-03-28 09:17   MiSeq_SOP/F3D149_S215_L001_R2_001.fastq\n",
      "  3093194  2013-03-28 09:17   MiSeq_SOP/F3D150_S216_L001_R1_001.fastq\n",
      "  3089382  2013-03-28 09:17   MiSeq_SOP/F3D150_S216_L001_R2_001.fastq\n",
      "  3295299  2013-03-28 09:17   MiSeq_SOP/F3D1_S189_L001_R1_001.fastq\n",
      "  3292547  2013-03-28 09:17   MiSeq_SOP/F3D1_S189_L001_R2_001.fastq\n",
      " 11016599  2013-03-28 09:17   MiSeq_SOP/F3D2_S190_L001_R1_001.fastq\n",
      " 11003081  2013-03-28 09:17   MiSeq_SOP/F3D2_S190_L001_R2_001.fastq\n",
      "  3794704  2013-03-28 09:17   MiSeq_SOP/F3D3_S191_L001_R1_001.fastq\n",
      "  3789320  2013-03-28 09:17   MiSeq_SOP/F3D3_S191_L001_R2_001.fastq\n",
      "  2497527  2013-03-28 09:17   MiSeq_SOP/F3D5_S193_L001_R1_001.fastq\n",
      "  2494737  2013-03-28 09:17   MiSeq_SOP/F3D5_S193_L001_R2_001.fastq\n",
      "  4485826  2013-03-28 09:17   MiSeq_SOP/F3D6_S194_L001_R1_001.fastq\n",
      "  4480600  2013-03-28 09:17   MiSeq_SOP/F3D6_S194_L001_R2_001.fastq\n",
      "  2879975  2013-03-28 09:17   MiSeq_SOP/F3D7_S195_L001_R1_001.fastq\n",
      "  2876027  2013-03-28 09:17   MiSeq_SOP/F3D7_S195_L001_R2_001.fastq\n",
      "  2972569  2013-03-28 09:17   MiSeq_SOP/F3D8_S196_L001_R1_001.fastq\n",
      "  2969711  2013-03-28 09:17   MiSeq_SOP/F3D8_S196_L001_R2_001.fastq\n",
      "  3969819  2013-03-28 09:17   MiSeq_SOP/F3D9_S197_L001_R1_001.fastq\n",
      "  3965889  2013-03-28 09:17   MiSeq_SOP/F3D9_S197_L001_R2_001.fastq\n",
      "    17599  2013-03-28 09:17   MiSeq_SOP/HMP_MOCK.v35.fasta\n",
      "  2682565  2013-03-28 09:17   MiSeq_SOP/Mock_S280_L001_R1_001.fastq\n",
      "  2679931  2013-03-28 09:17   MiSeq_SOP/Mock_S280_L001_R2_001.fastq\n",
      "      183  2014-08-14 15:37   MiSeq_SOP/mouse.dpw.metadata\n",
      "      230  2014-08-14 15:49   MiSeq_SOP/mouse.time.design\n",
      "     1454  2014-08-14 11:34   MiSeq_SOP/stability.batch\n",
      "     1280  2013-03-28 09:18   MiSeq_SOP/stability.files\n",
      "---------                     -------\n",
      "171019775                     93 files\n"
     ]
    }
   ],
   "source": [
    "unzip -l MiSeqSOPData.zip | grep -v __MAC"
   ]
  },
  {
   "cell_type": "markdown",
   "metadata": {},
   "source": [
    "I extract two data points and a reference dataset: pair ended reads of fecal sample of a female mouse 150 days after weaning and the Mock sample, a mixture of bacteria made of 32 bacterial strains. I choose the samples `F3D150` and `Mock`. Finally, I will extract and recompress the reads, because **Mothur** can handle them in `.fasta.gz` format as well. I also extract the `HMP_MOCK.v35.fasta` file because it contains known sequences of the Mock sample. It will help us figure out the reference composition; we will compare it with the results that **Mothur** produces.\n",
    "\n",
    "The extracte files and all the products of **Mothur** will be stored in the `Data` folder."
   ]
  },
  {
   "cell_type": "code",
   "execution_count": 9,
   "metadata": {
    "collapsed": false
   },
   "outputs": [
    {
     "name": "stdout",
     "output_type": "stream",
     "text": [
      "total 2448\n",
      "drwxrwxr-x 2 viktor viktor   4096 Mar 23 10:47 .\n",
      "drwxrwxr-x 4 viktor viktor   4096 Mar 23 10:34 ..\n",
      "-rw-rw-r-- 1 viktor viktor 569706 Mar 23 10:48 F3D150_S216_L001_R1_001.fastq.gz\n",
      "-rw-rw-r-- 1 viktor viktor 778215 Mar 23 10:48 F3D150_S216_L001_R2_001.fastq.gz\n",
      "-rw-rw-r-- 1 viktor viktor   2698 Mar 23 10:48 HMP_MOCK.v35.fasta.gz\n",
      "-rw-rw-r-- 1 viktor viktor 514032 Mar 23 10:48 Mock_S280_L001_R1_001.fastq.gz\n",
      "-rw-rw-r-- 1 viktor viktor 626119 Mar 23 10:48 Mock_S280_L001_R2_001.fastq.gz\n"
     ]
    }
   ],
   "source": [
    "mkdir Data\n",
    "\n",
    "for file in $(unzip -l MiSeqSOPData.zip | grep -oE \"/(F3D150|Mock|HMP_).*$\" | tr -d '/'); \n",
    "do \n",
    "    unzip -p MiSeqSOPData.zip \"*/$file*\" | gzip - > Data/$file.gz; \n",
    "done\n",
    "\n",
    "ls -la Data/"
   ]
  },
  {
   "cell_type": "markdown",
   "metadata": {},
   "source": [
    "We have the two samples with pair ended reads and the Mock sample composition."
   ]
  },
  {
   "cell_type": "markdown",
   "metadata": {},
   "source": [
    "## (b) Current Silva based bacaterial reference alignment (311MB)\n",
    "This file is a reference alignment of rRNA sequences with taxonomical data. It has 50,000 column long alignments of 168,111 bacterial, 4337 archeal, and 18213 eukarya sequences. It is ~8.9 GB uncompressed, so we need to process it to reduce it. Here I just download the file, I will deal with it later."
   ]
  },
  {
   "cell_type": "code",
   "execution_count": null,
   "metadata": {
    "collapsed": false
   },
   "outputs": [],
   "source": [
    "wget https://www.mothur.org/w/images/b/b4/Silva.nr_v128.tgz"
   ]
  },
  {
   "cell_type": "markdown",
   "metadata": {},
   "source": [
    "## (c) Current Ribosomal Database Reference files (RDP)\n",
    "A collection of 12,681 bacterial and 531 archaeal 16S rRNA gene sequences (*not aligned!*) for Bayesian classification. This also contains taxonomy data, it is used to resolve OTUs at the genus level. This file is relatively small I extract it here. I also rename the folder this step creates to `PDS` to make the access smoother later."
   ]
  },
  {
   "cell_type": "code",
   "execution_count": null,
   "metadata": {
    "collapsed": false
   },
   "outputs": [],
   "source": [
    "wget https://www.mothur.org/w/images/c/c3/Trainset16_022016.pds.tgz\n",
    "tar xvfz Trainset16_022016.pds.tgz\n",
    "mv trainset16_022016.pds PDS"
   ]
  },
  {
   "cell_type": "markdown",
   "metadata": {},
   "source": [
    "[1] https://www.mothur.org/wiki/MiSeq_SOP"
   ]
  }
 ],
 "metadata": {
  "kernelspec": {
   "display_name": "Bash",
   "language": "bash",
   "name": "bash"
  },
  "language_info": {
   "codemirror_mode": "shell",
   "file_extension": ".sh",
   "mimetype": "text/x-sh",
   "name": "bash"
  },
  "latex_envs": {
   "LaTeX_envs_menu_present": true,
   "autocomplete": true,
   "bibliofile": "biblio.bib",
   "cite_by": "apalike",
   "current_citInitial": 1,
   "eqLabelWithNumbers": true,
   "eqNumInitial": 1,
   "hotkeys": {
    "equation": "Ctrl-E",
    "itemize": "Ctrl-I"
   },
   "labels_anchors": false,
   "latex_user_defs": false,
   "report_style_numbering": false,
   "user_envs_cfg": false
  }
 },
 "nbformat": 4,
 "nbformat_minor": 2
}
