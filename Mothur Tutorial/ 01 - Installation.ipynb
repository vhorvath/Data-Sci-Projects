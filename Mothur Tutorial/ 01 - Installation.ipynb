{
 "cells": [
  {
   "cell_type": "markdown",
   "metadata": {},
   "source": [
    "# <center>Mothur tutorial <br/> Sofware installation</center>\n",
    "You could install `mothur-1.36.1` under Ubuntu Linux trhiugh standard repositories by `apt install mothur`, which will also pull all possible dependencies, though it is not the latest version.\n",
    "\n",
    "I will do something relatively ambitious and build all immediate dependencies from source. The dependencies of the dependencies I will acquire from the software distribution channels available on Ubuntu Linux. This is not really a joyride, it is doable but the installation has some quirks.\n",
    "\n",
    "### I. Download, build, install Mothur dependencies (there are quite a few!)\n",
    "At the end of this section we will have the latest version of all packages. (It may not be the best, because all dependencies can introduce new ~~bugs~~ features that Mothur was not tested against. (This is ne place where a team of programmers could be at help by setting up test suites for **Mothur**, in my opininon)\n",
    "#### (a) Boost C++ libraries (93MB) [1]"
   ]
  },
  {
   "cell_type": "code",
   "execution_count": null,
   "metadata": {
    "collapsed": false,
    "scrolled": true
   },
   "outputs": [],
   "source": [
    "wget https://sourceforge.net/projects/boost/files/boost/1.63.0/boost_1_63_0.tar.gz/download -O boost-1.63.0.tar.gz\n",
    "tar xvfz boost-1.63.0.tar.gz\n",
    "cd boost_1_63_0\n",
    "./bootstrap.sh --preifx=/usr # (12min 51sec)\n",
    "./b2 install --prefix=/usr"
   ]
  },
  {
   "cell_type": "markdown",
   "metadata": {},
   "source": [
    "#### (b) `readline-7.0` library (2.9MB)\n",
    "For the command line to allow for moving back and forth between previous commands (this is optional). If you choose not to use this functionality you will need to (later) edit the **Mothur** `Makefile` and change:\n",
    "`USEREADLINE ?= yes` to `USEREADLINE ?= no`."
   ]
  },
  {
   "cell_type": "code",
   "execution_count": null,
   "metadata": {
    "collapsed": false,
    "scrolled": true
   },
   "outputs": [],
   "source": [
    "wget ftp://ftp.gnu.org/gnu/readline/readline-7.0.tar.gz\n",
    "tar xvfz readline-7.0.tar.gz\n",
    "cd readline-7.0\n",
    "./configure\n",
    "make # (16sec)\n",
    "sudo make install"
   ]
  },
  {
   "cell_type": "markdown",
   "metadata": {},
   "source": [
    "Or on Ubuntu Linux you can install `readline-6.3` by `sudo apt install libreadline-dev`.\n",
    "#### (c) `vsearch-2.4.2` library for the read chimera search (see later)\n",
    "To build this you will also need the command `autoreconf`, on Ubuntu Linux you can acquire it as part of the `dh-autoreconf` package."
   ]
  },
  {
   "cell_type": "code",
   "execution_count": null,
   "metadata": {
    "collapsed": false,
    "scrolled": true
   },
   "outputs": [],
   "source": [
    "wget https://github.com/torognes/vsearch/archive/v2.4.2.tar.gz -O vsearch-2.4.2.tar.gz\n",
    "tar xvfz vsearch-2.4.2.tar.gz\n",
    "cd vsearch-2.4.2\n",
    "./autogen.sh # This will need autoreconf\n",
    "./configure\n",
    "make # (16sec)\n",
    "sudo make install"
   ]
  },
  {
   "cell_type": "markdown",
   "metadata": {},
   "source": [
    "### II. Download and make the Mothur (1.7MB) package"
   ]
  },
  {
   "cell_type": "code",
   "execution_count": null,
   "metadata": {
    "collapsed": false,
    "scrolled": true
   },
   "outputs": [],
   "source": [
    "wget https://github.com/mothur/mothur/archive/v1.39.5.tar.gz -O mothur-1.39.5.tar.gz\n",
    "tar xvfz mothur-1.39.5.tar.gz\n",
    "cd mothur-1.39.5\n",
    "make # (19min 42sec)"
   ]
  },
  {
   "cell_type": "markdown",
   "metadata": {},
   "source": [
    "**Mothur** does not come with an install script (normally we'd do `make install`), therefore, we need to do it manually. I chose to achieve system-wide availability by producing a `symlink` to the two binaries."
   ]
  },
  {
   "cell_type": "code",
   "execution_count": null,
   "metadata": {
    "collapsed": false,
    "scrolled": true
   },
   "outputs": [],
   "source": [
    "sudo ln -s $PWD/mothur /usr/local/bin/\n",
    "sudo ln -s $PWD/uchime /usr/local/bin/"
   ]
  },
  {
   "cell_type": "markdown",
   "metadata": {},
   "source": [
    "### III. Usage\n",
    "If you want to use it interactively (usable that way, no problem) you only need to issue `mothur` in the folder where you want to do the analysis.\n",
    "\n",
    "**Tip!** To have a nicer organziation you can have your data sources in a folder and instruct **Mothur** to cahnge directory into that folder. (You will need to say where the data is, if you choose that to be current directory `\".\"` then **Mothur** will use the full path (little annoying and not protable). However, if you start **Mothur** one directory up in the tree, and tell the folder name (not the full path) your resource files are generated under that folder, but they will not have the full path, which is much nicer, and portable.\n",
    "\n",
    "Since I use Jupyter notebook for this tutorial, and I did not want to copy past all outputs, I create a Bash function below to pass commands straight to **Mothur** and filter the output for the output header. **Mothur** does not have many command line options to make piping simple. It even forces you to use log files, no matter if you want it or not. I will also remove extra new lines, to compress the output."
   ]
  },
  {
   "cell_type": "code",
   "execution_count": 3,
   "metadata": {
    "collapsed": false,
    "scrolled": true
   },
   "outputs": [],
   "source": [
    "Mothur() {\n",
    "    mothur \"#set.logfile(name=mothur.log, append=T); \\\n",
    "            $(echo $1 | tr -d \"\\\"\")\" | tail -n +31 | head -n -2 | grep -v '^$'\n",
    "}"
   ]
  },
  {
   "cell_type": "markdown",
   "metadata": {},
   "source": [
    "I test this functionality below, we see the command that we passed and the result."
   ]
  },
  {
   "cell_type": "code",
   "execution_count": 4,
   "metadata": {
    "collapsed": false,
    "scrolled": true
   },
   "outputs": [
    {
     "name": "stdout",
     "output_type": "stream",
     "text": [
      "mothur > get.current()\n",
      "Current RAM usage: 0.00419998 Gigabytes. Total Ram: 3.85892 Gigabytes.\n",
      "Current default directory saved by mothur: /usr/local/bin/mothur/\n",
      "Current working directory: /home/viktor/RBIF109.work/Week10/Tutorial/\n"
     ]
    }
   ],
   "source": [
    "Mothur \"get.current()\""
   ]
  },
  {
   "cell_type": "markdown",
   "metadata": {},
   "source": [
    "[1] http://www.boost.org/"
   ]
  }
 ],
 "metadata": {
  "kernelspec": {
   "display_name": "Bash",
   "language": "bash",
   "name": "bash"
  },
  "language_info": {
   "codemirror_mode": "shell",
   "file_extension": ".sh",
   "mimetype": "text/x-sh",
   "name": "bash"
  },
  "latex_envs": {
   "LaTeX_envs_menu_present": true,
   "autocomplete": true,
   "bibliofile": "biblio.bib",
   "cite_by": "apalike",
   "current_citInitial": 1,
   "eqLabelWithNumbers": true,
   "eqNumInitial": 1,
   "hotkeys": {
    "equation": "Ctrl-E",
    "itemize": "Ctrl-I"
   },
   "labels_anchors": false,
   "latex_user_defs": false,
   "report_style_numbering": false,
   "user_envs_cfg": false
  }
 },
 "nbformat": 4,
 "nbformat_minor": 2
}
